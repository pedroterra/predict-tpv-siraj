{
 "cells": [
  {
   "cell_type": "code",
   "execution_count": 1,
   "metadata": {},
   "outputs": [
    {
     "name": "stderr",
     "output_type": "stream",
     "text": [
      "Using TensorFlow backend.\n"
     ]
    }
   ],
   "source": [
    "from keras.layers.core import Dense, Activation, Dropout\n",
    "from keras.layers.recurrent import LSTM\n",
    "from keras.models import Sequential\n",
    "#import lstm #helper libraries\n",
    "import time\n",
    "import warnings\n",
    "import numpy as np\n",
    "from numpy import newaxis\n",
    "import matplotlib.pyplot as plt\n",
    "\n",
    "#warnings.filterwarnings(\"ignore\")"
   ]
  },
  {
   "cell_type": "code",
   "execution_count": 16,
   "metadata": {},
   "outputs": [],
   "source": [
    "def load_data(filename, seq_len, normalise_window):\n",
    "    \n",
    "    f = open(filename, 'r').read()\n",
    "    data = f.split('\\n')\n",
    "\n",
    "    sequence_length = seq_len + 1\n",
    "    result = []\n",
    "    for index in range(len(data) - sequence_length):\n",
    "        result.append(data[index: index + sequence_length])\n",
    "    \n",
    "#     print(max(result))\n",
    "#     print(min(result))\n",
    "\n",
    "    if normalise_window:\n",
    "        max_vals = []\n",
    "        result, max_vals = normalise_windows2(result)\n",
    "        print(max_vals)\n",
    "\n",
    "    result = np.array(result)\n",
    "\n",
    "    row = round(0.9 * result.shape[0])\n",
    "    train = result[:int(row), :]\n",
    "    np.random.shuffle(train)\n",
    "    x_train = train[:, :-1]\n",
    "    y_train = train[:, -1]\n",
    "    x_test = result[int(row):, :-1]\n",
    "    y_test = result[int(row):, -1]\n",
    "\n",
    "    x_train = np.reshape(x_train, (x_train.shape[0], x_train.shape[1], 1))\n",
    "    x_test = np.reshape(x_test, (x_test.shape[0], x_test.shape[1], 1))\n",
    "\n",
    "    return [x_train, y_train, x_test, y_test]"
   ]
  },
  {
   "cell_type": "code",
   "execution_count": 17,
   "metadata": {},
   "outputs": [],
   "source": [
    "# def normalise_windows(window_data):\n",
    "#     normalised_data = []\n",
    "#     for window in window_data:\n",
    "#         normalised_window = [((float(p) / (float(window[0]))) - 1) for p in window]\n",
    "#         normalised_data.append(normalised_window)\n",
    "#     return normalised_data\n",
    "\n",
    "def normalise_windows2(window_data):\n",
    "    normalised_data = []\n",
    "    maximos = []\n",
    "    for window in window_data:\n",
    "        normalised_window = [((float(p) / (float(max(window)))) - 1) for p in window]\n",
    "        maximos.append(max(window))\n",
    "        normalised_data.append(normalised_window)\n",
    "    print(maximos)\n",
    "    return normalised_data, maximos"
   ]
  },
  {
   "cell_type": "code",
   "execution_count": 18,
   "metadata": {},
   "outputs": [
    {
     "ename": "UnboundLocalError",
     "evalue": "local variable 'max_vals' referenced before assignment",
     "output_type": "error",
     "traceback": [
      "\u001b[0;31m---------------------------------------------------------------------------\u001b[0m",
      "\u001b[0;31mUnboundLocalError\u001b[0m                         Traceback (most recent call last)",
      "\u001b[0;32m<ipython-input-18-38448d5457ab>\u001b[0m in \u001b[0;36m<module>\u001b[0;34m()\u001b[0m\n\u001b[1;32m      1\u001b[0m \u001b[0;31m#Step 1 Load Data\u001b[0m\u001b[0;34m\u001b[0m\u001b[0;34m\u001b[0m\u001b[0m\n\u001b[1;32m      2\u001b[0m \u001b[0;31m#X_train, y_train, X_test, y_test = lstm.load_data('sp500.csv', 50, True)\u001b[0m\u001b[0;34m\u001b[0m\u001b[0;34m\u001b[0m\u001b[0m\n\u001b[0;32m----> 3\u001b[0;31m \u001b[0mX_train\u001b[0m\u001b[0;34m,\u001b[0m \u001b[0my_train\u001b[0m\u001b[0;34m,\u001b[0m \u001b[0mX_test\u001b[0m\u001b[0;34m,\u001b[0m \u001b[0my_test\u001b[0m \u001b[0;34m=\u001b[0m \u001b[0mload_data\u001b[0m\u001b[0;34m(\u001b[0m\u001b[0;34m'm1.csv'\u001b[0m\u001b[0;34m,\u001b[0m \u001b[0;36m7\u001b[0m\u001b[0;34m,\u001b[0m \u001b[0;32mFalse\u001b[0m\u001b[0;34m)\u001b[0m\u001b[0;34m\u001b[0m\u001b[0m\n\u001b[0m",
      "\u001b[0;32m<ipython-input-16-c976a281216f>\u001b[0m in \u001b[0;36mload_data\u001b[0;34m(filename, seq_len, normalise_window)\u001b[0m\n\u001b[1;32m     16\u001b[0m         \u001b[0mresult\u001b[0m\u001b[0;34m,\u001b[0m \u001b[0mmax_vals\u001b[0m \u001b[0;34m=\u001b[0m \u001b[0mnormalise_windows2\u001b[0m\u001b[0;34m(\u001b[0m\u001b[0mresult\u001b[0m\u001b[0;34m)\u001b[0m\u001b[0;34m\u001b[0m\u001b[0m\n\u001b[1;32m     17\u001b[0m \u001b[0;34m\u001b[0m\u001b[0m\n\u001b[0;32m---> 18\u001b[0;31m     \u001b[0mprint\u001b[0m\u001b[0;34m(\u001b[0m\u001b[0mmax_vals\u001b[0m\u001b[0;34m)\u001b[0m\u001b[0;34m\u001b[0m\u001b[0m\n\u001b[0m\u001b[1;32m     19\u001b[0m \u001b[0;34m\u001b[0m\u001b[0m\n\u001b[1;32m     20\u001b[0m     \u001b[0mresult\u001b[0m \u001b[0;34m=\u001b[0m \u001b[0mnp\u001b[0m\u001b[0;34m.\u001b[0m\u001b[0marray\u001b[0m\u001b[0;34m(\u001b[0m\u001b[0mresult\u001b[0m\u001b[0;34m)\u001b[0m\u001b[0;34m\u001b[0m\u001b[0m\n",
      "\u001b[0;31mUnboundLocalError\u001b[0m: local variable 'max_vals' referenced before assignment"
     ]
    }
   ],
   "source": [
    "#Step 1 Load Data\n",
    "#X_train, y_train, X_test, y_test = lstm.load_data('sp500.csv', 50, True)\n",
    "X_train, y_train, X_test, y_test = load_data('m1.csv', 7, False)"
   ]
  },
  {
   "cell_type": "code",
   "execution_count": 15,
   "metadata": {},
   "outputs": [
    {
     "data": {
      "text/plain": [
       "array(['0', '37213', '106103', '99477', '86994', '0', '55257', '82063',\n",
       "       '114643', '90553', '129904', '140325', '0', '97678', '110073',\n",
       "       '101293', '103572', '108383', '149602', '0', '86050', '124191',\n",
       "       '86719', '112071'],\n",
       "      dtype='<U6')"
      ]
     },
     "execution_count": 15,
     "metadata": {},
     "output_type": "execute_result"
    }
   ],
   "source": [
    "y_test"
   ]
  },
  {
   "cell_type": "code",
   "execution_count": 6,
   "metadata": {},
   "outputs": [
    {
     "name": "stdout",
     "output_type": "stream",
     "text": [
      "compilation time :  0.07327699661254883\n"
     ]
    }
   ],
   "source": [
    "#Step 2 Build Model\n",
    "model = Sequential()\n",
    "\n",
    "model.add(LSTM(\n",
    "    input_shape=(None,1),\n",
    "    units=50,\n",
    "    return_sequences=True))\n",
    "model.add(Dropout(0.2))\n",
    "\n",
    "model.add(LSTM(\n",
    "    100,\n",
    "    return_sequences=False))\n",
    "model.add(Dropout(0.2))\n",
    "\n",
    "# model.add(Dense(\n",
    "#     output_dim=256))\n",
    "# model.add(Activation('linear'))\n",
    "\n",
    "model.add(Dense(\n",
    "    units=1))\n",
    "model.add(Activation('linear'))\n",
    "\n",
    "start = time.time()\n",
    "model.compile(loss='mae', optimizer='adam')\n",
    "print( 'compilation time : ', time.time() - start)"
   ]
  },
  {
   "cell_type": "code",
   "execution_count": 7,
   "metadata": {
    "scrolled": true
   },
   "outputs": [
    {
     "name": "stderr",
     "output_type": "stream",
     "text": [
      "/Users/pedrobirmann/anaconda/envs/keras_env_test/lib/python3.5/site-packages/keras/models.py:939: UserWarning: The `nb_epoch` argument in `fit` has been renamed `epochs`.\n",
      "  warnings.warn('The `nb_epoch` argument in `fit` '\n"
     ]
    },
    {
     "name": "stdout",
     "output_type": "stream",
     "text": [
      "Train on 191 samples, validate on 22 samples\n",
      "Epoch 1/100\n",
      "191/191 [==============================] - 3s 14ms/step - loss: 0.4310 - val_loss: 0.4289\n",
      "Epoch 2/100\n",
      "191/191 [==============================] - 0s 492us/step - loss: 0.4287 - val_loss: 0.4282\n",
      "Epoch 3/100\n",
      "191/191 [==============================] - 0s 663us/step - loss: 0.4287 - val_loss: 0.4276\n",
      "Epoch 4/100\n",
      "191/191 [==============================] - 0s 536us/step - loss: 0.4278 - val_loss: 0.4290\n",
      "Epoch 5/100\n",
      "191/191 [==============================] - 0s 544us/step - loss: 0.4259 - val_loss: 0.4285\n",
      "Epoch 6/100\n",
      "191/191 [==============================] - 0s 502us/step - loss: 0.4255 - val_loss: 0.4279\n",
      "Epoch 7/100\n",
      "191/191 [==============================] - 0s 537us/step - loss: 0.4246 - val_loss: 0.4267\n",
      "Epoch 8/100\n",
      "191/191 [==============================] - 0s 474us/step - loss: 0.4218 - val_loss: 0.4271\n",
      "Epoch 9/100\n",
      "191/191 [==============================] - 0s 476us/step - loss: 0.4203 - val_loss: 0.4254\n",
      "Epoch 10/100\n",
      "191/191 [==============================] - 0s 526us/step - loss: 0.4144 - val_loss: 0.4258\n",
      "Epoch 11/100\n",
      "191/191 [==============================] - 0s 499us/step - loss: 0.4094 - val_loss: 0.4272\n",
      "Epoch 12/100\n",
      "191/191 [==============================] - ETA: 0s - loss: 0.441 - 0s 527us/step - loss: 0.3978 - val_loss: 0.4233\n",
      "Epoch 13/100\n",
      "191/191 [==============================] - 0s 507us/step - loss: 0.3850 - val_loss: 0.4250\n",
      "Epoch 14/100\n",
      "191/191 [==============================] - 0s 538us/step - loss: 0.3730 - val_loss: 0.4324\n",
      "Epoch 15/100\n",
      "191/191 [==============================] - 0s 482us/step - loss: 0.3479 - val_loss: 0.4318\n",
      "Epoch 16/100\n",
      "191/191 [==============================] - 0s 533us/step - loss: 0.3392 - val_loss: 0.4279\n",
      "Epoch 17/100\n",
      "191/191 [==============================] - 0s 493us/step - loss: 0.3366 - val_loss: 0.4620\n",
      "Epoch 18/100\n",
      "191/191 [==============================] - 0s 519us/step - loss: 0.3344 - val_loss: 0.4442\n",
      "Epoch 19/100\n",
      "191/191 [==============================] - 0s 503us/step - loss: 0.3382 - val_loss: 0.4625\n",
      "Epoch 20/100\n",
      "191/191 [==============================] - 0s 507us/step - loss: 0.3387 - val_loss: 0.4358\n",
      "Epoch 21/100\n",
      "191/191 [==============================] - 0s 505us/step - loss: 0.3223 - val_loss: 0.4132\n",
      "Epoch 22/100\n",
      "191/191 [==============================] - 0s 429us/step - loss: 0.3150 - val_loss: 0.4273\n",
      "Epoch 23/100\n",
      "191/191 [==============================] - 0s 571us/step - loss: 0.3269 - val_loss: 0.4325\n",
      "Epoch 24/100\n",
      "191/191 [==============================] - 0s 537us/step - loss: 0.3149 - val_loss: 0.4248\n",
      "Epoch 25/100\n",
      "191/191 [==============================] - 0s 501us/step - loss: 0.3301 - val_loss: 0.4298\n",
      "Epoch 26/100\n",
      "191/191 [==============================] - 0s 519us/step - loss: 0.3301 - val_loss: 0.4225\n",
      "Epoch 27/100\n",
      "191/191 [==============================] - 0s 518us/step - loss: 0.3135 - val_loss: 0.4045\n",
      "Epoch 28/100\n",
      "191/191 [==============================] - 0s 543us/step - loss: 0.3313 - val_loss: 0.3907\n",
      "Epoch 29/100\n",
      "191/191 [==============================] - 0s 597us/step - loss: 0.3199 - val_loss: 0.4089\n",
      "Epoch 30/100\n",
      "191/191 [==============================] - 0s 506us/step - loss: 0.3134 - val_loss: 0.4205\n",
      "Epoch 31/100\n",
      "191/191 [==============================] - 0s 551us/step - loss: 0.3095 - val_loss: 0.4219\n",
      "Epoch 32/100\n",
      "191/191 [==============================] - 0s 507us/step - loss: 0.3129 - val_loss: 0.4096\n",
      "Epoch 33/100\n",
      "191/191 [==============================] - 0s 519us/step - loss: 0.3114 - val_loss: 0.3961\n",
      "Epoch 34/100\n",
      "191/191 [==============================] - 0s 495us/step - loss: 0.3145 - val_loss: 0.3942\n",
      "Epoch 35/100\n",
      "191/191 [==============================] - 0s 518us/step - loss: 0.3154 - val_loss: 0.4144\n",
      "Epoch 36/100\n",
      "191/191 [==============================] - 0s 532us/step - loss: 0.3186 - val_loss: 0.4097\n",
      "Epoch 37/100\n",
      "191/191 [==============================] - 0s 507us/step - loss: 0.3075 - val_loss: 0.3898\n",
      "Epoch 38/100\n",
      "191/191 [==============================] - 0s 571us/step - loss: 0.3122 - val_loss: 0.3834\n",
      "Epoch 39/100\n",
      "191/191 [==============================] - 0s 486us/step - loss: 0.3071 - val_loss: 0.3950\n",
      "Epoch 40/100\n",
      "191/191 [==============================] - 0s 560us/step - loss: 0.3151 - val_loss: 0.3928\n",
      "Epoch 41/100\n",
      "191/191 [==============================] - 0s 516us/step - loss: 0.3044 - val_loss: 0.4016\n",
      "Epoch 42/100\n",
      "191/191 [==============================] - 0s 522us/step - loss: 0.3071 - val_loss: 0.3968\n",
      "Epoch 43/100\n",
      "191/191 [==============================] - 0s 541us/step - loss: 0.3009 - val_loss: 0.3757\n",
      "Epoch 44/100\n",
      "191/191 [==============================] - 0s 528us/step - loss: 0.3137 - val_loss: 0.4026\n",
      "Epoch 45/100\n",
      "191/191 [==============================] - 0s 507us/step - loss: 0.3166 - val_loss: 0.4145\n",
      "Epoch 46/100\n",
      "191/191 [==============================] - 0s 547us/step - loss: 0.3033 - val_loss: 0.3801\n",
      "Epoch 47/100\n",
      "191/191 [==============================] - 0s 551us/step - loss: 0.3120 - val_loss: 0.3862\n",
      "Epoch 48/100\n",
      "191/191 [==============================] - 0s 521us/step - loss: 0.3011 - val_loss: 0.4000\n",
      "Epoch 49/100\n",
      "191/191 [==============================] - 0s 494us/step - loss: 0.2979 - val_loss: 0.4011\n",
      "Epoch 50/100\n",
      "191/191 [==============================] - 0s 558us/step - loss: 0.3012 - val_loss: 0.3796\n",
      "Epoch 51/100\n",
      "191/191 [==============================] - 0s 518us/step - loss: 0.2967 - val_loss: 0.3763\n",
      "Epoch 52/100\n",
      "191/191 [==============================] - 0s 527us/step - loss: 0.3075 - val_loss: 0.4012\n",
      "Epoch 53/100\n",
      "191/191 [==============================] - 0s 649us/step - loss: 0.3027 - val_loss: 0.3827\n",
      "Epoch 54/100\n",
      "191/191 [==============================] - 0s 530us/step - loss: 0.3059 - val_loss: 0.3715\n",
      "Epoch 55/100\n",
      "191/191 [==============================] - 0s 527us/step - loss: 0.3027 - val_loss: 0.3887\n",
      "Epoch 56/100\n",
      "191/191 [==============================] - 0s 526us/step - loss: 0.2939 - val_loss: 0.3816\n",
      "Epoch 57/100\n",
      "191/191 [==============================] - 0s 577us/step - loss: 0.2950 - val_loss: 0.3824\n",
      "Epoch 58/100\n",
      "191/191 [==============================] - 0s 539us/step - loss: 0.3013 - val_loss: 0.4069\n",
      "Epoch 59/100\n",
      "191/191 [==============================] - 0s 557us/step - loss: 0.3086 - val_loss: 0.3860\n",
      "Epoch 60/100\n",
      "191/191 [==============================] - 0s 536us/step - loss: 0.2900 - val_loss: 0.3668\n",
      "Epoch 61/100\n",
      "191/191 [==============================] - 0s 547us/step - loss: 0.3024 - val_loss: 0.3748\n",
      "Epoch 62/100\n",
      "191/191 [==============================] - 0s 538us/step - loss: 0.3007 - val_loss: 0.3989\n",
      "Epoch 63/100\n",
      "191/191 [==============================] - 0s 560us/step - loss: 0.3027 - val_loss: 0.3765\n",
      "Epoch 64/100\n",
      "191/191 [==============================] - 0s 478us/step - loss: 0.3005 - val_loss: 0.3723\n",
      "Epoch 65/100\n",
      "191/191 [==============================] - 0s 461us/step - loss: 0.2969 - val_loss: 0.3750\n",
      "Epoch 66/100\n",
      "191/191 [==============================] - 0s 478us/step - loss: 0.2988 - val_loss: 0.3810\n",
      "Epoch 67/100\n",
      "191/191 [==============================] - 0s 517us/step - loss: 0.2946 - val_loss: 0.3869\n",
      "Epoch 68/100\n",
      "191/191 [==============================] - 0s 542us/step - loss: 0.3011 - val_loss: 0.3783\n",
      "Epoch 69/100\n",
      "191/191 [==============================] - 0s 492us/step - loss: 0.2932 - val_loss: 0.3802\n",
      "Epoch 70/100\n",
      "191/191 [==============================] - 0s 604us/step - loss: 0.2906 - val_loss: 0.3850\n",
      "Epoch 71/100\n",
      "191/191 [==============================] - 0s 578us/step - loss: 0.2849 - val_loss: 0.3830\n",
      "Epoch 72/100\n",
      "191/191 [==============================] - 0s 576us/step - loss: 0.2962 - val_loss: 0.3790\n",
      "Epoch 73/100\n",
      "191/191 [==============================] - 0s 536us/step - loss: 0.2944 - val_loss: 0.3776\n",
      "Epoch 74/100\n",
      "191/191 [==============================] - 0s 520us/step - loss: 0.2992 - val_loss: 0.3764\n",
      "Epoch 75/100\n",
      "191/191 [==============================] - 0s 495us/step - loss: 0.2915 - val_loss: 0.3819\n",
      "Epoch 76/100\n",
      "191/191 [==============================] - 0s 511us/step - loss: 0.2946 - val_loss: 0.3805\n",
      "Epoch 77/100\n",
      "191/191 [==============================] - 0s 545us/step - loss: 0.2864 - val_loss: 0.3784\n",
      "Epoch 78/100\n",
      "191/191 [==============================] - 0s 578us/step - loss: 0.2972 - val_loss: 0.3716\n",
      "Epoch 79/100\n"
     ]
    },
    {
     "name": "stdout",
     "output_type": "stream",
     "text": [
      "191/191 [==============================] - 0s 505us/step - loss: 0.2977 - val_loss: 0.3792\n",
      "Epoch 80/100\n",
      "191/191 [==============================] - 0s 470us/step - loss: 0.2931 - val_loss: 0.3572\n",
      "Epoch 81/100\n",
      "191/191 [==============================] - 0s 576us/step - loss: 0.2968 - val_loss: 0.3714\n",
      "Epoch 82/100\n",
      "191/191 [==============================] - 0s 584us/step - loss: 0.3036 - val_loss: 0.3796\n",
      "Epoch 83/100\n",
      "191/191 [==============================] - 0s 586us/step - loss: 0.2927 - val_loss: 0.3439\n",
      "Epoch 84/100\n",
      "191/191 [==============================] - 0s 504us/step - loss: 0.3129 - val_loss: 0.3462\n",
      "Epoch 85/100\n",
      "191/191 [==============================] - 0s 475us/step - loss: 0.3013 - val_loss: 0.3845\n",
      "Epoch 86/100\n",
      "191/191 [==============================] - 0s 518us/step - loss: 0.3080 - val_loss: 0.3758\n",
      "Epoch 87/100\n",
      "191/191 [==============================] - 0s 545us/step - loss: 0.2954 - val_loss: 0.3431\n",
      "Epoch 88/100\n",
      "191/191 [==============================] - 0s 495us/step - loss: 0.3038 - val_loss: 0.3482\n",
      "Epoch 89/100\n",
      "191/191 [==============================] - 0s 518us/step - loss: 0.2867 - val_loss: 0.3673\n",
      "Epoch 90/100\n",
      "191/191 [==============================] - 0s 557us/step - loss: 0.2965 - val_loss: 0.3651\n",
      "Epoch 91/100\n",
      "191/191 [==============================] - 0s 536us/step - loss: 0.2818 - val_loss: 0.3588\n",
      "Epoch 92/100\n",
      "191/191 [==============================] - 0s 541us/step - loss: 0.2925 - val_loss: 0.3507\n",
      "Epoch 93/100\n",
      "191/191 [==============================] - 0s 576us/step - loss: 0.2885 - val_loss: 0.3595\n",
      "Epoch 94/100\n",
      "191/191 [==============================] - 0s 892us/step - loss: 0.2937 - val_loss: 0.3723\n",
      "Epoch 95/100\n",
      "191/191 [==============================] - 0s 636us/step - loss: 0.2817 - val_loss: 0.3586\n",
      "Epoch 96/100\n",
      "191/191 [==============================] - 0s 465us/step - loss: 0.2857 - val_loss: 0.3569\n",
      "Epoch 97/100\n",
      "191/191 [==============================] - 0s 547us/step - loss: 0.2909 - val_loss: 0.3607\n",
      "Epoch 98/100\n",
      "191/191 [==============================] - 0s 551us/step - loss: 0.2837 - val_loss: 0.3574\n",
      "Epoch 99/100\n",
      "191/191 [==============================] - 0s 508us/step - loss: 0.2895 - val_loss: 0.3415\n",
      "Epoch 100/100\n",
      "191/191 [==============================] - 0s 543us/step - loss: 0.2921 - val_loss: 0.3483\n"
     ]
    },
    {
     "data": {
      "text/plain": [
       "<keras.callbacks.History at 0x180faf9dd8>"
      ]
     },
     "execution_count": 7,
     "metadata": {},
     "output_type": "execute_result"
    }
   ],
   "source": [
    "## Step 3 Train the model\n",
    "model.fit(\n",
    "    X_train,\n",
    "    y_train,\n",
    "    batch_size=64,\n",
    "    nb_epoch=100,\n",
    "    validation_split=0.1)"
   ]
  },
  {
   "cell_type": "code",
   "execution_count": 8,
   "metadata": {},
   "outputs": [],
   "source": [
    "def predict_sequences_multiple(model, data, window_size, prediction_len):\n",
    "    #Predict sequence of 50 steps before shifting prediction run forward by 50 steps\n",
    "    prediction_seqs = []\n",
    "    for i in range(int(len(data)/prediction_len)):\n",
    "        curr_frame = data[i*prediction_len]\n",
    "        predicted = []\n",
    "        for j in range(prediction_len):\n",
    "            predicted.append(model.predict(curr_frame[newaxis,:,:])[0,0])\n",
    "            curr_frame = curr_frame[1:]\n",
    "            curr_frame = np.insert(curr_frame, [window_size-1], predicted[-1], axis=0)\n",
    "        prediction_seqs.append(predicted)\n",
    "    return prediction_seqs"
   ]
  },
  {
   "cell_type": "code",
   "execution_count": 9,
   "metadata": {},
   "outputs": [],
   "source": [
    "def plot_results_multiple(predicted_data, true_data, prediction_len):\n",
    "    fig = plt.figure(facecolor='white')\n",
    "    ax = fig.add_subplot(111)\n",
    "    ax.plot(true_data, label='True Data')\n",
    "    #print ('yo')\n",
    "    #Pad the list of predictions to shift it in the graph to it's correct start\n",
    "    for i, data in enumerate(predicted_data):\n",
    "        padding = [None for p in range(i * prediction_len)]\n",
    "        plt.plot(padding + data, label='Prediction')\n",
    "        plt.legend()\n",
    "    plt.show()"
   ]
  },
  {
   "cell_type": "code",
   "execution_count": 10,
   "metadata": {
    "scrolled": true
   },
   "outputs": [
    {
     "data": {
      "image/png": "[encoded data removed]",
      "text/plain": [
       "<matplotlib.figure.Figure at 0x102917e80>"
      ]
     },
     "metadata": {},
     "output_type": "display_data"
    }
   ],
   "source": [
    "#Step 4 - Plot the predictions!\n",
    "predictions = predict_sequences_multiple(model, X_test, 7, 7)\n",
    "plot_results_multiple(predictions, y_test, 7)"
   ]
  },
  {
   "cell_type": "code",
   "execution_count": 11,
   "metadata": {},
   "outputs": [
    {
     "data": {
      "text/plain": [
       "array([-1.        , -0.54375705,  0.55343914,  0.        , -0.12548629,\n",
       "       -1.        , -0.44452487, -0.17505554,  0.15245735, -0.08970918,\n",
       "        0.3058697 ,  0.54964496, -1.        ,  0.        ,  0.12689654,\n",
       "        0.03700936,  0.06034112,  0.10959479,  0.53158337, -1.        ,\n",
       "       -0.11904421,  0.4432423 ,  0.        ,  0.29234654])"
      ]
     },
     "execution_count": 11,
     "metadata": {},
     "output_type": "execute_result"
    }
   ],
   "source": [
    "y_test"
   ]
  },
  {
   "cell_type": "code",
   "execution_count": 12,
   "metadata": {},
   "outputs": [
    {
     "data": {
      "text/plain": [
       "array([ 0.        ,  0.45624295,  1.55343914,  1.        ,  0.87451371,\n",
       "        0.        ,  0.55547513,  0.82494446,  1.15245735,  0.91029082,\n",
       "        1.3058697 ,  1.54964496,  0.        ,  1.        ,  1.12689654,\n",
       "        1.03700936,  1.06034112,  1.10959479,  1.53158337,  0.        ,\n",
       "        0.88095579,  1.4432423 ,  1.        ,  1.29234654])"
      ]
     },
     "execution_count": 12,
     "metadata": {},
     "output_type": "execute_result"
    }
   ],
   "source": [
    "for i in range(len(y_test)):\n",
    "    y_test[i] = y_test[i]+1\n",
    "    \n",
    "y_test"
   ]
  },
  {
   "cell_type": "code",
   "execution_count": 13,
   "metadata": {},
   "outputs": [
    {
     "data": {
      "text/plain": [
       "array([      0.        ,   45549.47118827,  155089.14977599,\n",
       "         99836.        ,   87307.9504207 ,       0.        ,\n",
       "         55456.41557345,   82359.15506097,  115056.73218935,\n",
       "         90879.79440474,  130372.80722177,  154710.35415723,\n",
       "             0.        ,   99836.        ,  112504.84272815,\n",
       "        103530.866193  ,  105860.21613874,  110777.50555908,\n",
       "        152907.15690329,       0.        ,   87951.10260243,\n",
       "        144087.53836142,   99836.        ,  129022.70962534])"
      ]
     },
     "execution_count": 13,
     "metadata": {},
     "output_type": "execute_result"
    }
   ],
   "source": [
    "for i in range(len(y_test)):\n",
    "    y_test[i] = y_test[i]*99836\n",
    "    \n",
    "y_test"
   ]
  },
  {
   "cell_type": "code",
   "execution_count": null,
   "metadata": {},
   "outputs": [],
   "source": [
    "['0', '37213', '106103', '99477', '86994', '0', '55257', '82063',\n",
    "       '114643', '90553', '129904', '140325', '0', '97678', '110073',\n",
    "       '101293', '103572', '108383', '149602', '0', '86050', '124191',\n",
    "       '86719', '112071'],"
   ]
  }
 ],
 "metadata": {
  "kernelspec": {
   "display_name": "Python 3",
   "language": "python",
   "name": "python3"
  },
  "language_info": {
   "codemirror_mode": {
    "name": "ipython",
    "version": 3
   },
   "file_extension": ".py",
   "mimetype": "text/x-python",
   "name": "python",
   "nbconvert_exporter": "python",
   "pygments_lexer": "ipython3",
   "version": "3.5.4"
  }
 },
 "nbformat": 4,
 "nbformat_minor": 2
}
